# # AUTOMATED REPORT GENERATION

# Import necessary libbraries
import pandas as pd
import matplotlib.pyplot as plt
from fpdf import FPDF
from datetime import datetime
import os
import numpy as np
import warnings
warnings.filterwarnings("ignore", category=DeprecationWarning)

class PDFReport(FPDF):
    def header(self):
        self.set_font('Arial', 'B', 16)
        self.cell(0, 10, 'Student Performance Analysis Report', 0, 1, 'C')
        self.set_font('Arial', 'I', 10)
        self.cell(0, 10, f"Generated on: {datetime.now().strftime('%Y-%m-%d %H:%M:%S')}", 0, 0, 'C')
        self.ln(20)

    def footer(self):
        self.set_y(-15)
        self.set_font('Arial', 'I', 8)
        self.cell(0, 10, f'Page {self.page_no()}', 0, 0, 'C')

def analyze_data(df):
    """Perform data analysis and return summary statistics"""
    analysis = {}

    # Basic statistics
    analysis['total_students'] = len(df)
    analysis['pass_rate'] = df['Pass_Or_Fail'].mean() * 100
    analysis['avg_self_study'] = df['Self_Study_Daily'].mean()
    analysis['avg_tution'] = df['Tution_Monthly'].mean()

    # Comparison between passed and failed students
    passed = df[df['Pass_Or_Fail'] == 1]
    failed = df[df['Pass_Or_Fail'] == 0]

    analysis['avg_self_study_passed'] = passed['Self_Study_Daily'].mean()
    analysis['avg_self_study_failed'] = failed['Self_Study_Daily'].mean()
    analysis['avg_tution_passed'] = passed['Tution_Monthly'].mean()
    analysis['avg_tution_failed'] = failed['Tution_Monthly'].mean()

    return analysis

def create_visualizations(df, analysis):
    """Generate visualizations and save as image files"""
    os.makedirs('visualizations', exist_ok=True)

    # Visualization 1: Pass/Fail Distribution
    plt.figure(figsize=(8, 5))
    df['Pass_Or_Fail'].value_counts().plot(
        kind='pie',
        labels=['Fail', 'Pass'],
        autopct='%1.1f%%',
        colors=['#FF5252', '#4CAF50']
    )
    plt.title('Pass/Fail Distribution')
    plt.ylabel('')
    plt.tight_layout()
    plt.savefig('visualizations/pass_fail_distribution.png')
    plt.close()

    # Visualization 2: Self-Study vs Tution Hours
    plt.figure(figsize=(8, 5))
    plt.scatter(
        df['Self_Study_Daily'],
        df['Tution_Monthly'],
        c=df['Pass_Or_Fail'],
        cmap='bwr',
        alpha=0.7
    )
    plt.title('Self-Study vs Tution Hours (Red=Fail, Blue=Pass)')
    plt.xlabel('Daily Self-Study Hours')
    plt.ylabel('Monthly Tution Hours')
    plt.grid(True)
    plt.tight_layout()
    plt.savefig('visualizations/study_vs_tution.png')
    plt.close()

    # Visualization 3: Comparison of Averages
    categories = ['Self-Study (Passed)', 'Self-Study (Failed)',
                 'Tution (Passed)', 'Tution (Failed)']
    values = [
        analysis['avg_self_study_passed'],
        analysis['avg_self_study_failed'],
        analysis['avg_tution_passed'],
        analysis['avg_tution_failed']
    ]

    plt.figure(figsize=(8, 5))
    bars = plt.bar(categories, values, color=['#4CAF50', '#FF5252', '#4CAF50', '#FF5252'])
    plt.title('Average Hours Comparison: Passed vs Failed Students')
    plt.ylabel('Hours')

    # Add value labels on top of bars
    for bar in bars:
        height = bar.get_height()
        plt.text(bar.get_x() + bar.get_width()/2., height,
                 f'{height:.1f}',
                 ha='center', va='bottom')

    plt.tight_layout()
    plt.savefig('visualizations/avg_comparison.png')
    plt.close()

def generate_pdf_report(analysis, output_file='student_performance_report.pdf'):
    """Generate PDF report with analysis and visualizations"""
    pdf = PDFReport()
    pdf.add_page()
    pdf.set_auto_page_break(auto=True, margin=15)

    # Report Title and Introduction
    pdf.set_font('Arial', 'B', 14)
    pdf.cell(0, 10, 'Executive Summary', 0, 1)
    pdf.set_font('Arial', '', 12)
    pdf.multi_cell(0, 8,
        "This report analyzes student performance data based on self-study hours "
        "and tution hours. The data shows the relationship between study habits "
        "and exam outcomes.")
    pdf.ln(10)

    # Key Metrics
    pdf.set_font('Arial', 'B', 12)
    pdf.cell(0, 10, 'Key Performance Indicators', 0, 1)
    pdf.set_font('Arial', '', 12)

    metrics = [
        ('Total Students', analysis['total_students']),
        ('Pass Rate', f"{analysis['pass_rate']:.1f}%"),
        ('Average Daily Self-Study', f"{analysis['avg_self_study']:.1f} hours"),
        ('Average Monthly Tution', f"{analysis['avg_tution']:.1f} hours"),
    ]

    for label, value in metrics:
        pdf.cell(100, 8, label, 1)
        pdf.cell(90, 8, str(value), 1, 1)

    pdf.ln(10)

    # Add visualizations
    pdf.set_font('Arial', 'B', 12)
    pdf.cell(0, 10, 'Performance Analysis Visualizations', 0, 1)

    # Pass/Fail Distribution
    pdf.image('visualizations/pass_fail_distribution.png', x=10, y=None, w=180)
    pdf.ln(5)
    pdf.set_font('Arial', 'I', 10)
    pdf.cell(0, 8, 'Figure 1: Pass/Fail Distribution Among Students', 0, 1, 'C')
    pdf.ln(10)

    # Self-Study vs Tution
    pdf.image('visualizations/study_vs_tution.png', x=10, y=None, w=180)
    pdf.ln(5)
    pdf.cell(0, 8, 'Figure 2: Self-Study vs Tution Hours (Red=Fail, Blue=Pass)', 0, 1, 'C')
    pdf.ln(10)

    # Comparison of Averages
    pdf.image('visualizations/avg_comparison.png', x=10, y=None, w=180)
    pdf.ln(5)
    pdf.cell(0, 8, 'Figure 3: Average Hours Comparison Between Passed and Failed Students', 0, 1, 'C')

    # Save the PDF
    pdf.output(output_file)
    print(f"Report generated successfully: {output_file}")

def main():
    # Load data
    try:
        df = pd.read_csv('/content/drive/MyDrive/INTERNSHIP-CODETECH/Student-Pass-Fail-Data.csv')
    except FileNotFoundError:
        print("Error: Student-Pass-Fail-Data.csv not found in current directory")
        return

    # Analyze data
    analysis = analyze_data(df)

    # Create visualizations
    create_visualizations(df, analysis)

    # Generate PDF report
    generate_pdf_report(analysis)

if __name__ == "__main__":
    main()

from google.colab import files
files.download('student_performance_report.pdf')
